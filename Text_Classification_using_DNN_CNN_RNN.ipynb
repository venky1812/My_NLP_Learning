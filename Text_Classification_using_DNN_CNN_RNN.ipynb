{
  "nbformat": 4,
  "nbformat_minor": 0,
  "metadata": {
    "colab": {
      "name": "Text Classification using DNN_CNN_RNN.ipynb",
      "provenance": [],
      "mount_file_id": "https://github.com/venky1812/My_NLP_Learning/blob/main/Text_Classification_using_DNN_CNN_RNN.ipynb",
      "authorship_tag": "ABX9TyPE7WaMLc0htz/BpL4V0Oq5",
      "include_colab_link": true
    },
    "kernelspec": {
      "name": "python3",
      "display_name": "Python 3"
    },
    "accelerator": "GPU"
  },
  "cells": [
    {
      "cell_type": "markdown",
      "metadata": {
        "id": "view-in-github",
        "colab_type": "text"
      },
      "source": [
        "<a href=\"https://colab.research.google.com/github/venky1812/My_NLP_Learning/blob/main/Text_Classification_using_DNN_CNN_RNN.ipynb\" target=\"_parent\"><img src=\"https://colab.research.google.com/assets/colab-badge.svg\" alt=\"Open In Colab\"/></a>"
      ]
    },
    {
      "cell_type": "code",
      "metadata": {
        "id": "srDqojrbj_-5"
      },
      "source": [
        "#from google.colab import drive\r\n",
        "\r\n",
        "#drive.mount('/content/gdrive')"
      ],
      "execution_count": null,
      "outputs": []
    },
    {
      "cell_type": "code",
      "metadata": {
        "id": "4ww_yTuFxxqV"
      },
      "source": [
        "#import shutil\r\n",
        "#shutil.unpack_archive(\"drive/MyDrive/ml_dl_datasets/aclImdb_v1.tar.gz\", \"drive/MyDrive/ml_dl_datasets/\")"
      ],
      "execution_count": null,
      "outputs": []
    },
    {
      "cell_type": "code",
      "metadata": {
        "id": "2RYqdin2yOMp"
      },
      "source": [
        "import os\r\n",
        "import sys\r\n",
        "import numpy as np\r\n",
        "from tensorflow.keras.preprocessing.text import Tokenizer\r\n",
        "from tensorflow.keras.preprocessing.sequence import pad_sequences\r\n",
        "from tensorflow.keras.utils import to_categorical\r\n",
        "from tensorflow.keras.layers import Dense, Input, GlobalMaxPooling1D\r\n",
        "from tensorflow.keras.layers import Conv1D, MaxPooling1D, Embedding, LSTM\r\n",
        "from tensorflow.keras.models import Model, Sequential\r\n",
        "from tensorflow.keras.initializers import Constant"
      ],
      "execution_count": 15,
      "outputs": []
    },
    {
      "cell_type": "markdown",
      "metadata": {
        "id": "VDpV1e-32RCg"
      },
      "source": [
        "Defining dataset directory paths"
      ]
    },
    {
      "cell_type": "code",
      "metadata": {
        "id": "qfTefIom0Hrg"
      },
      "source": [
        "base_data_dir  = \"drive/MyDrive/ml_dl_datasets/\"\r\n",
        "\r\n",
        "TRAIN_DATA_DIR = os.path.join(base_data_dir, 'imdb_sentiment_analysis/train') #source: http://ai.stanford.edu/~amaas/data/sentiment/\r\n",
        "TEST_DATA_DIR = os.path.join(base_data_dir, 'imdb_sentiment_analysis/test')\r\n",
        "\r\n",
        "## Hyperparameters \r\n",
        "\r\n",
        "MAX_SEQUENCE_LENGTH = 1000\r\n",
        "MAX_NUM_WORDS = 20000 \r\n",
        "EMBEDDING_DIM = 100 \r\n",
        "VALIDATION_SPLIT = 0.2\r\n",
        "\r\n"
      ],
      "execution_count": 16,
      "outputs": []
    },
    {
      "cell_type": "markdown",
      "metadata": {
        "id": "b0uNzaTG5sS6"
      },
      "source": [
        "Loading the data"
      ]
    },
    {
      "cell_type": "code",
      "metadata": {
        "id": "WJyDXpE80H7S"
      },
      "source": [
        "def get_data(data_dir):\r\n",
        "  print(data_dir)\r\n",
        "  texts = [] # list of text samples\r\n",
        "  labels = [] # list of text\r\n",
        "  label_index ={'pos':1,'neg':0}\r\n",
        "  for name in sorted(os.listdir(data_dir)):\r\n",
        "    if name != 'unsup':\r\n",
        "      path = os.path.join(data_dir,name)\r\n",
        "      if os.path.isdir(path):\r\n",
        "        label_id = label_index[name]\r\n",
        "        print(path)\r\n",
        "        for fname in sorted(os.listdir(path)):\r\n",
        "          fpath = os.path.join(path, fname)\r\n",
        "          text = open(fpath).read()\r\n",
        "          texts.append(text)\r\n",
        "          labels.append(label_id)\r\n",
        "\r\n",
        "  return texts,labels\r\n"
      ],
      "execution_count": 23,
      "outputs": []
    },
    {
      "cell_type": "code",
      "metadata": {
        "id": "jm0D1XkG0H_D"
      },
      "source": [
        "#train_texts, train_labels = get_data(TRAIN_DATA_DIR)\r\n",
        "#test_texts, test_labels = get_data(TEST_DATA_DIR)"
      ],
      "execution_count": 27,
      "outputs": []
    },
    {
      "cell_type": "code",
      "metadata": {
        "id": "KTTWDG7x42qj",
        "outputId": "73847494-4274-484b-af4d-0b735f1f8a10",
        "colab": {
          "base_uri": "https://localhost:8080/"
        }
      },
      "source": [
        "len(train_texts)"
      ],
      "execution_count": 25,
      "outputs": [
        {
          "output_type": "execute_result",
          "data": {
            "text/plain": [
              "0"
            ]
          },
          "metadata": {
            "tags": []
          },
          "execution_count": 25
        }
      ]
    },
    {
      "cell_type": "code",
      "metadata": {
        "id": "qCcFf9R59kxf"
      },
      "source": [
        "#Vectorize these text samples into a 2D integer tensor using Keras Tokenizer\r\n",
        "#Tokenizer is fit on training data only, and that is used to tokenize both train and test data.\r\n",
        "tokenizer = Tokenizer(num_words=MAX_NUM_WORDS,oov_token = '<OOV>')\r\n",
        "tokenizer.fit_on_texts(train_texts)\r\n",
        "train_sequences = tokenizer.texts_to_sequences(train_texts) #Converting text to a vector of word indexes\r\n",
        "test_sequences = tokenizer.texts_to_sequences(test_texts)\r\n",
        "word_index = tokenizer.word_index\r\n",
        "print('Found %s unique tokens.' % len(word_index))"
      ],
      "execution_count": null,
      "outputs": []
    },
    {
      "cell_type": "code",
      "metadata": {
        "id": "WeWUNZwJDrUP"
      },
      "source": [
        "### Applying Padding to make text sequences to same length\r\n",
        "trainvalid_data  = pad_sequences(train_sequences, maxlen=MAX_SEQUENCE_LENGTH)\r\n",
        "test_data = pad_sequences(test_sequences, maxlen=MAX_SEQUENCE_LENGTH)\r\n",
        "\r\n",
        "### converting labels to categorical\r\n",
        "trainvalid_labels = to_categorical(np.asarray(train_labels))\r\n",
        "test_labels = to_categorical(np.asarray(test_labels))\r\n"
      ],
      "execution_count": null,
      "outputs": []
    },
    {
      "cell_type": "code",
      "metadata": {
        "id": "qgB-cSDDDrZ5"
      },
      "source": [
        ""
      ],
      "execution_count": null,
      "outputs": []
    }
  ]
}